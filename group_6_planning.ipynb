{
 "cells": [
  {
   "cell_type": "markdown",
   "id": "062fe494-28bd-478e-a776-dffc73593e37",
   "metadata": {},
   "source": [
    "# ECE6460 Project Planning\n",
    "Matthew Bellafaire, Alex Tyshka, Pourya Shahverdi\n",
    "\n",
    "The final project plan is to implement the [sensor fusion final project idea](https://github.com/robustify/ece6460_project_ideas/blob/master/sensor_fusion_projects/README.md). \n",
    "Some of the options include: \n",
    "- Camera / lidar fusion to localize and identify objects in the environment. \n",
    "- traffic light state detector\n",
    "- lidar/radar fusion \n",
    "\n",
    "\n",
    "For ours: \n",
    "- Investigate merging corresponding objects into one track\n",
    "- Classification of objects based on camera feed and fusing with lidar/radar depth fusion\n"
   ]
  },
  {
   "cell_type": "code",
   "execution_count": null,
   "id": "b52284fa-0496-4e39-abd5-69fcf4f8271c",
   "metadata": {},
   "outputs": [],
   "source": [
    "\n"
   ]
  }
 ],
 "metadata": {
  "kernelspec": {
   "display_name": "Python 3",
   "language": "python",
   "name": "python3"
  },
  "language_info": {
   "codemirror_mode": {
    "name": "ipython",
    "version": 3
   },
   "file_extension": ".py",
   "mimetype": "text/x-python",
   "name": "python",
   "nbconvert_exporter": "python",
   "pygments_lexer": "ipython3",
   "version": "3.6.9"
  }
 },
 "nbformat": 4,
 "nbformat_minor": 5
}
